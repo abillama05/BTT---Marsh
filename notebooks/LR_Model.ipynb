{
 "cells": [
  {
   "cell_type": "code",
   "execution_count": 1,
   "id": "5942fc3e-81c2-4a17-a46d-06f6a55857a1",
   "metadata": {},
   "outputs": [],
   "source": [
    "import pandas as pd\n",
    "import numpy as np\n",
    "import os\n",
    "import matplotlib.pyplot as plt\n",
    "import seaborn as sns\n",
    "%matplotlib inline\n",
    "from sklearn.linear_model import LogisticRegression\n",
    "from sklearn.model_selection import train_test_split\n",
    "from sklearn.metrics import log_loss\n",
    "from sklearn.metrics import accuracy_score\n",
    "from sklearn.metrics import accuracy_score, classification_report, confusion_matrix\n",
    "from sklearn.preprocessing import StandardScaler"
   ]
  },
  {
   "cell_type": "markdown",
   "id": "4d0d26c7-d417-4242-bd41-42ce295d4933",
   "metadata": {},
   "source": [
    "# Dataset"
   ]
  },
  {
   "cell_type": "code",
   "execution_count": 2,
   "id": "30ad44c0-be97-4283-abd3-a5090693d2c8",
   "metadata": {},
   "outputs": [],
   "source": [
    "df = pd.read_csv('/Users/enrista/Downloads/MarshMcLennan/LR_Model2/hurricane_vessel_dataset_unique_encoded.csv', header=0)"
   ]
  },
  {
   "cell_type": "code",
   "execution_count": 3,
   "id": "5f4963dc-34de-4691-a387-a42a2fc63567",
   "metadata": {},
   "outputs": [],
   "source": [
    "y = df['PathChange']\n",
    "X = df.drop(columns=['PathChange'])"
   ]
  },
  {
   "cell_type": "code",
   "execution_count": 4,
   "id": "70b09cb9-2b11-4c8e-ae71-e8f0179c1715",
   "metadata": {},
   "outputs": [],
   "source": [
    "# Split the data into training and testing sets\n",
    "X_train, X_test, y_train, y_test = train_test_split(X, y, test_size=0.2, stratify=y, random_state=123)"
   ]
  },
  {
   "cell_type": "code",
   "execution_count": 5,
   "id": "0e88f99a-f1fd-43fc-8d96-a3384f46634f",
   "metadata": {},
   "outputs": [],
   "source": [
    "# Initialize the scaler\n",
    "scaler = StandardScaler()\n",
    "\n",
    "# Fit the scaler on the training data and transform both training and test data\n",
    "X_train = scaler.fit_transform(X_train)\n",
    "X_test = scaler.transform(X_test)"
   ]
  },
  {
   "cell_type": "markdown",
   "id": "73a02ace-c1ed-4c02-91b9-160455e7c134",
   "metadata": {},
   "source": [
    "# Best Performing Model"
   ]
  },
  {
   "cell_type": "code",
   "execution_count": 12,
   "id": "d877c7d0-2ab4-48c5-89a1-9a933f8f1197",
   "metadata": {},
   "outputs": [
    {
     "name": "stdout",
     "output_type": "stream",
     "text": [
      "The fitted weights and intercept with sklearn are:\n",
      "[[-7.50164279e-03  4.41451029e-01  2.05604792e-01 -3.63368759e-02\n",
      "   1.47237779e-01  1.18440636e-01 -1.58151591e-01 -2.80944318e-02\n",
      "   6.37089386e-02 -5.02687668e-02  2.48555874e-02 -5.12530936e-02\n",
      "  -6.50679028e-02  4.83839609e-02  2.44882740e-02  6.80663533e-02\n",
      "   7.91847471e-02 -4.36142255e-02  2.86452742e-02 -5.84938341e-02\n",
      "  -8.98915280e-02 -2.44809643e-02 -7.22811570e-03  2.94658544e-04\n",
      "  -5.51473182e-02  6.84165667e-02  2.99107215e-02  2.60050423e-02\n",
      "   2.93350431e-02 -2.34691898e-02 -9.32128995e-04  1.05613015e-02]] [1.05378759]\n",
      "\n",
      "Model with C=0.1 and solver=liblinear:\n",
      "Accuracy: 0.7807486631016043\n",
      "Classification Report:\n",
      "               precision    recall  f1-score   support\n",
      "\n",
      "           0       0.50      0.35      0.41        82\n",
      "           1       0.83      0.90      0.87       292\n",
      "\n",
      "    accuracy                           0.78       374\n",
      "   macro avg       0.67      0.63      0.64       374\n",
      "weighted avg       0.76      0.78      0.77       374\n",
      "\n",
      "Confusion Matrix:\n",
      " [[ 29  53]\n",
      " [ 29 263]]\n"
     ]
    }
   ],
   "source": [
    "logistic_regression_model = LogisticRegression(C=0.01, solver='liblinear', multi_class='auto')\n",
    "\n",
    "# Train the model\n",
    "logistic_regression_model.fit(X_train, y_train)\n",
    "\n",
    "print('The fitted weights and intercept with sklearn are:')\n",
    "print(logistic_regression_model.coef_, logistic_regression_model.intercept_)\n",
    "\n",
    "# Make predictions\n",
    "y_pred = logistic_regression_model.predict(X_test)\n",
    "\n",
    "# Evaluate the model\n",
    "print(f\"\\nModel with C=0.1 and solver=liblinear:\")\n",
    "print(\"Accuracy:\", accuracy_score(y_test, y_pred))\n",
    "print(\"Classification Report:\\n\", classification_report(y_test, y_pred))\n",
    "print(\"Confusion Matrix:\\n\", confusion_matrix(y_test, y_pred))"
   ]
  },
  {
   "cell_type": "code",
   "execution_count": 14,
   "id": "169a9628-70e7-4b4b-8bdc-25700012ce81",
   "metadata": {},
   "outputs": [
    {
     "data": {
      "image/png": "[encoded data removed]",
      "text/plain": [
       "<Figure size 800x600 with 1 Axes>"
      ]
     },
     "metadata": {},
     "output_type": "display_data"
    }
   ],
   "source": [
    "# Compute confusion matrix\n",
    "cm = confusion_matrix(y_test, y_pred)\n",
    "\n",
    "# Plot confusion matrix\n",
    "plt.figure(figsize=(8, 6))\n",
    "sns.heatmap(cm, annot=True, fmt=\"d\", cmap=\"Blues\", cbar=False)\n",
    "plt.xlabel(\"Predicted Labels\")\n",
    "plt.ylabel(\"True Labels\")\n",
    "plt.title(\"Confusion Matrix\")\n",
    "plt.show()"
   ]
  },
  {
   "cell_type": "code",
   "execution_count": null,
   "id": "a1a68d21-521c-4957-9a91-b69ec57cb8b4",
   "metadata": {},
   "outputs": [],
   "source": []
  }
 ],
 "metadata": {
  "kernelspec": {
   "display_name": "Python 3 (ipykernel)",
   "language": "python",
   "name": "python3"
  },
  "language_info": {
   "codemirror_mode": {
    "name": "ipython",
    "version": 3
   },
   "file_extension": ".py",
   "mimetype": "text/x-python",
   "name": "python",
   "nbconvert_exporter": "python",
   "pygments_lexer": "ipython3",
   "version": "3.12.4"
  }
 },
 "nbformat": 4,
 "nbformat_minor": 5
}
