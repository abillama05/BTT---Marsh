{
 "cells": [
  {
   "cell_type": "markdown",
   "metadata": {},
   "source": [
    "# **Label Creation Notebook**\n",
    "\n",
    "### **1. Import Libraries**"
   ]
  },
  {
   "cell_type": "code",
   "execution_count": 1,
   "metadata": {},
   "outputs": [],
   "source": [
    "import pandas as pd"
   ]
  },
  {
   "cell_type": "code",
   "execution_count": null,
   "metadata": {},
   "outputs": [],
   "source": [
    "# Import cleaned vessel data set\n",
    "filePath = \"../data/ecv_sep20.csv\"\n",
    "df = pd.read_csv(filePath)"
   ]
  },
  {
   "cell_type": "code",
   "execution_count": null,
   "metadata": {},
   "outputs": [],
   "source": [
    "# Display the first 5 rows of the data set\n",
    "df.head(5)"
   ]
  },
  {
   "cell_type": "code",
   "execution_count": null,
   "metadata": {},
   "outputs": [],
   "source": [
    "# Display the shape of the data set\n",
    "df.shape"
   ]
  },
  {
   "cell_type": "markdown",
   "metadata": {},
   "source": [
    "### **Context for Determining Vessel Path**\n",
    "- **Single Entry Vessels**: If a vessel has only one entry, assume it's on course or stopped if SOG (speed) is 0.\n",
    "- **Vessel Stopped**: A vessel is stopped if SOG is 0.\n",
    "- **Off Course**: A vessel is off course if the difference between its previous and current COG (course) exceeds a set threshold, and the data is recent (1 day or less).\n",
    "- **On Course**: A vessel is on course if the difference between previous and current COG is within the acceptable threshold.\n",
    "- **Turned Around**: A vessel has turned around if the previous COG is about 180° opposite the current COG.\n",
    "- **Vessel Count**: There are about 10,613 distinct vessels in the dataset.\n",
    "- **Near Port**: Assume the vessel is maintaining course if near a port.\n",
    "\n",
    "Ships typically see COG changes of 5-10° within a day during normal operation, varying due to:\n",
    "- **Weather**: Rough seas can cause larger changes.\n",
    "- **Navigation**: More frequent course changes occur in congested waters or near ports.\n",
    "- **Vessel Type**: Larger ships (tankers, cargo) tend to maintain more stable courses, while smaller vessels may change direction more often."
   ]
  },
  {
   "cell_type": "code",
   "execution_count": null,
   "metadata": {},
   "outputs": [],
   "source": [
    "df['BaseDateTime'] = pd.to_datetime(df['BaseDateTime'])\n",
    "df = df.sort_values(by=['MMSI', 'BaseDateTime']).reset_index(drop=True)  # Sort the data by vessel and timestamp\n",
    "labels = []\n",
    "cog_diffs = []\n",
    "\n",
    "for i in range(1, len(df)):\n",
    "    curr_vessel = df.loc[i, 'MMSI']\n",
    "    prev_vessel = df.loc[i - 1, 'MMSI']\n",
    "    time_diff = df.loc[i, 'BaseDateTime'] - df.loc[i - 1, 'BaseDateTime']\n",
    "\n",
    "    if (curr_vessel == prev_vessel) and (time_diff <= pd.Timedelta('1D')):\n",
    "        prev_cog = df.loc[i - 1, 'COG']\n",
    "        curr_cog = df.loc[i, 'COG']\n",
    "        cog_diff = abs(curr_cog - prev_cog)\n",
    "        curr_sog = df.loc[i, 'SOG']\n",
    "\n",
    "        cog_diffs.append(cog_diff)\n",
    "        if curr_sog == 0:\n",
    "            labels.append('stopped')\n",
    "        elif abs(cog_diff - 180) <= 10:\n",
    "            labels.append('turned around')\n",
    "        elif cog_diff > 15:\n",
    "            labels.append('veered off course')\n",
    "        else:\n",
    "            labels.append('stayed on course')\n",
    "    else:\n",
    "        labels.append('stayed on course')\n",
    "\n",
    "if df.loc[0, 'SOG'] == 0:\n",
    "    labels.insert(0, 'stopped')\n",
    "else:\n",
    "    labels.insert(0, 'stayed on course')\n",
    "\n",
    "df['PathChange'] = labels\n",
    "df.head(25)"
   ]
  },
  {
   "cell_type": "code",
   "execution_count": null,
   "metadata": {},
   "outputs": [],
   "source": [
    "# Display the value counts of the PathChange column\n",
    "df['PathChange'].value_counts()"
   ]
  },
  {
   "cell_type": "code",
   "execution_count": null,
   "metadata": {},
   "outputs": [],
   "source": [
    "# Drop rows where 'PathChange' is 'stopped'\n",
    "df = df[df['PathChange'] != 'stopped']"
   ]
  },
  {
   "cell_type": "code",
   "execution_count": null,
   "metadata": {},
   "outputs": [],
   "source": [
    "# Display the value counts of the PathChange column\n",
    "df[\"PathChange\"].value_counts()"
   ]
  },
  {
   "cell_type": "code",
   "execution_count": null,
   "metadata": {},
   "outputs": [],
   "source": [
    "# Combine 'veered off course' and 'turned around' into 'veered off course'\n",
    "df['PathChange'] = df['PathChange'].replace('turned around', 'veered off course')"
   ]
  },
  {
   "cell_type": "code",
   "execution_count": null,
   "metadata": {},
   "outputs": [],
   "source": [
    "# Display the value counts of the PathChange column\n",
    "df[\"PathChange\"].value_counts()"
   ]
  },
  {
   "cell_type": "code",
   "execution_count": null,
   "metadata": {},
   "outputs": [],
   "source": [
    "# Export the data set to a new CSV file\n",
    "df.to_csv('sept_vessels_2020_2023.csv', index=False)"
   ]
  }
 ],
 "metadata": {
  "kernelspec": {
   "display_name": "Python 3",
   "language": "python",
   "name": "python3"
  },
  "language_info": {
   "codemirror_mode": {
    "name": "ipython",
    "version": 3
   },
   "file_extension": ".py",
   "mimetype": "text/x-python",
   "name": "python",
   "nbconvert_exporter": "python",
   "pygments_lexer": "ipython3",
   "version": "3.12.0"
  }
 },
 "nbformat": 4,
 "nbformat_minor": 2
}
